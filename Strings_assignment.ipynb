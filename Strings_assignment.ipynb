{
 "cells": [
  {
   "cell_type": "markdown",
   "id": "edfd7e45",
   "metadata": {},
   "source": [
    "#### 1. write a python program to convert a string to lower case"
   ]
  },
  {
   "cell_type": "code",
   "execution_count": 2,
   "id": "ae973f49",
   "metadata": {},
   "outputs": [
    {
     "data": {
      "text/plain": [
       "'hello world!'"
      ]
     },
     "execution_count": 2,
     "metadata": {},
     "output_type": "execute_result"
    }
   ],
   "source": [
    "s=\"Hello World!\"\n",
    "s.lower()"
   ]
  },
  {
   "cell_type": "markdown",
   "id": "44add8fc",
   "metadata": {},
   "source": [
    "#### 2. Write a python program to convert only odd indexed characters to lower case"
   ]
  },
  {
   "cell_type": "code",
   "execution_count": 26,
   "id": "8340640a",
   "metadata": {},
   "outputs": [
    {
     "data": {
      "text/plain": [
       "' PyThOn'"
      ]
     },
     "execution_count": 26,
     "metadata": {},
     "output_type": "execute_result"
    }
   ],
   "source": [
    "s=\"PYTHON\"\n",
    "a=\" \"\n",
    "for i in range(len(s)):\n",
    "    if i%2==0:\n",
    "        a=a+s[i].upper()\n",
    "    else:\n",
    "        a=a+s[i].lower()\n",
    "a"
   ]
  },
  {
   "cell_type": "markdown",
   "id": "bfd13b05",
   "metadata": {},
   "source": [
    "#### 3. write a python program to convert only even indexed characters to lower case"
   ]
  },
  {
   "cell_type": "code",
   "execution_count": 27,
   "id": "1bc90bed",
   "metadata": {},
   "outputs": [
    {
     "data": {
      "text/plain": [
       "' pYtHoN'"
      ]
     },
     "execution_count": 27,
     "metadata": {},
     "output_type": "execute_result"
    }
   ],
   "source": [
    "s=\"PYTHON\"\n",
    "a=\" \"\n",
    "for i in range(len(s)):\n",
    "    if i%2==0:\n",
    "        a=a+s[i].lower()\n",
    "    else:\n",
    "        a=a+s[i].upper()\n",
    "a"
   ]
  },
  {
   "cell_type": "markdown",
   "id": "42e08a63",
   "metadata": {},
   "source": [
    "#### 4.write a python program to convert only odd indexed characters to upper case"
   ]
  },
  {
   "cell_type": "code",
   "execution_count": 23,
   "id": "ef86cf16",
   "metadata": {},
   "outputs": [
    {
     "data": {
      "text/plain": [
       "' pYtHoN'"
      ]
     },
     "execution_count": 23,
     "metadata": {},
     "output_type": "execute_result"
    }
   ],
   "source": [
    "s=\"PYTHON\"\n",
    "a=\" \"\n",
    "for i in range(len(s)):\n",
    "    if i%2==0:\n",
    "        a=a+s[i].lower()\n",
    "    else:\n",
    "        a=a+s[i].upper()\n",
    "a     "
   ]
  },
  {
   "cell_type": "markdown",
   "id": "627f32da",
   "metadata": {},
   "source": [
    "#### 5. write a python program to convert only even indexed characters to upper case"
   ]
  },
  {
   "cell_type": "code",
   "execution_count": 24,
   "id": "a63626de",
   "metadata": {},
   "outputs": [
    {
     "data": {
      "text/plain": [
       "' PyThOn'"
      ]
     },
     "execution_count": 24,
     "metadata": {},
     "output_type": "execute_result"
    }
   ],
   "source": [
    "s=\"PYTHON\"\n",
    "a=\" \"\n",
    "for i in range(len(s)):\n",
    "    if i%2==0:\n",
    "        a=a+s[i].upper()\n",
    "    else:\n",
    "        a=a+s[i].lower()\n",
    "a"
   ]
  },
  {
   "cell_type": "markdown",
   "id": "b5cb82af",
   "metadata": {},
   "source": [
    "#### 6. Write a python program whee you have different t variable which contains your t variable which contains your name, gender, age, phone number, father’s name and mother’s name. And by using this variable create a variable named bio-data where you will use all these variables"
   ]
  },
  {
   "cell_type": "code",
   "execution_count": 34,
   "id": "ac6ec142",
   "metadata": {},
   "outputs": [
    {
     "name": "stdout",
     "output_type": "stream",
     "text": [
      "My name is Bhavya,My age is 20,My gender is F,My phone number is 8688736623,My father name Ramakrishna,My mother name is Vishali\n"
     ]
    }
   ],
   "source": [
    "Name='Bhavya'\n",
    "Age='20'\n",
    "Gender='F'\n",
    "ph_no='8688736623'\n",
    "Father='Ramakrishna'\n",
    "Mother='Vishali'\n",
    "Bio_data={Name,Age,Gender,ph_no,Father,Mother}\n",
    "print('My name is {},My age is {},My gender is {},My phone number is {},My father name {},My mother name is {}'.format(Name,Age,Gender,ph_no,Father,Mother))"
   ]
  },
  {
   "cell_type": "markdown",
   "id": "af29b27a",
   "metadata": {},
   "source": [
    "#### 7.Write a python program to count how many times “@” occurred"
   ]
  },
  {
   "cell_type": "code",
   "execution_count": 45,
   "id": "cfd655f4",
   "metadata": {},
   "outputs": [
    {
     "data": {
      "text/plain": [
       "2"
      ]
     },
     "execution_count": 45,
     "metadata": {},
     "output_type": "execute_result"
    }
   ],
   "source": [
    "s='S@ndhy@'\n",
    "s=s.count('@')\n",
    "s"
   ]
  },
  {
   "cell_type": "markdown",
   "id": "924e7c97",
   "metadata": {},
   "source": [
    "#### 8.Write a python program to get only names from the string"
   ]
  },
  {
   "cell_type": "code",
   "execution_count": 55,
   "id": "89a5fcd6",
   "metadata": {},
   "outputs": [
    {
     "data": {
      "text/plain": [
       "'name1 ,name2 ,name3 '"
      ]
     },
     "execution_count": 55,
     "metadata": {},
     "output_type": "execute_result"
    }
   ],
   "source": [
    "s='name1.@gmail.com,name2.@gmail.com,name3.@gmail.com'\n",
    "s=s.split('.@gmail.com')\n",
    "s\n",
    "s=' '.join(s)\n",
    "s"
   ]
  },
  {
   "cell_type": "markdown",
   "id": "2158cdf7",
   "metadata": {},
   "source": [
    "#### 9.Write a program to remove vowels from the entire alphabets"
   ]
  },
  {
   "cell_type": "code",
   "execution_count": 60,
   "id": "4593e42a",
   "metadata": {},
   "outputs": [
    {
     "data": {
      "text/plain": [
       "'bcdfghjklmnpqrstvwxyz'"
      ]
     },
     "execution_count": 60,
     "metadata": {},
     "output_type": "execute_result"
    }
   ],
   "source": [
    "s=\"abcdefghijklmnopqrstuvwxyz\"\n",
    "a=['a','e','i','o','u']\n",
    "t=[]\n",
    "for i in s:\n",
    "    if i not in a:\n",
    "        t.append(i)\n",
    "t=''.join(t)\n",
    "t"
   ]
  },
  {
   "cell_type": "markdown",
   "id": "d4347687",
   "metadata": {},
   "source": [
    "#### 10.Find all occurrences of a substring in a given string by ignoring the case"
   ]
  },
  {
   "cell_type": "code",
   "execution_count": 67,
   "id": "a2239126",
   "metadata": {},
   "outputs": [
    {
     "data": {
      "text/plain": [
       "2"
      ]
     },
     "execution_count": 67,
     "metadata": {},
     "output_type": "execute_result"
    }
   ],
   "source": [
    "str1= \"Welcome to Innomatics. innomatics awesome, isn't it?\"\n",
    "str1=str1.capitalize()\n",
    "str1\n",
    "str1.count('innomatics')\n"
   ]
  }
 ],
 "metadata": {
  "kernelspec": {
   "display_name": "Python 3 (ipykernel)",
   "language": "python",
   "name": "python3"
  },
  "language_info": {
   "codemirror_mode": {
    "name": "ipython",
    "version": 3
   },
   "file_extension": ".py",
   "mimetype": "text/x-python",
   "name": "python",
   "nbconvert_exporter": "python",
   "pygments_lexer": "ipython3",
   "version": "3.10.9"
  }
 },
 "nbformat": 4,
 "nbformat_minor": 5
}
