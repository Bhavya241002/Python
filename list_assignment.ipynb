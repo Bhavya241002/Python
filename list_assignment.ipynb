{
 "cells": [
  {
   "cell_type": "markdown",
   "id": "28f8e4ba",
   "metadata": {},
   "source": [
    "### Write a Python program to sum all the items and multiply all the items"
   ]
  },
  {
   "cell_type": "code",
   "execution_count": 5,
   "id": "d03e091e",
   "metadata": {},
   "outputs": [
    {
     "name": "stdout",
     "output_type": "stream",
     "text": [
      "sum of all the items is: 15\n",
      "multiplication of all items is: 120\n"
     ]
    }
   ],
   "source": [
    "l=[1,2,3,4,5]\n",
    "s=sum(l)\n",
    "s\n",
    "m=1\n",
    "for i in l:\n",
    "    m=m*i\n",
    "m\n",
    "print('sum of all the items is:',s)\n",
    "print('multiplication of all items is:',m)\n",
    "    "
   ]
  },
  {
   "cell_type": "markdown",
   "id": "01946255",
   "metadata": {},
   "source": [
    "### Write a Python function that takes two lists and returns True if they have at least one common member.\n"
   ]
  },
  {
   "cell_type": "code",
   "execution_count": 12,
   "id": "dd8d578a",
   "metadata": {},
   "outputs": [
    {
     "name": "stdout",
     "output_type": "stream",
     "text": [
      "True\n",
      "None\n"
     ]
    }
   ],
   "source": [
    "def common(l1,l2):\n",
    "    result=False\n",
    "    for i in l1:\n",
    "        for j in l2:\n",
    "            if i==j:\n",
    "                result=True\n",
    "                return result\n",
    "print(common([1,2,3,4,5],[5,6,7,8,9]))\n",
    "print(common([1,2,3,4,5],[6,7,8,9]))\n"
   ]
  },
  {
   "cell_type": "markdown",
   "id": "9db26d01",
   "metadata": {},
   "source": [
    "### Write a Python program to compute the difference between two lists."
   ]
  },
  {
   "cell_type": "code",
   "execution_count": 18,
   "id": "cbe93dce",
   "metadata": {},
   "outputs": [
    {
     "name": "stdout",
     "output_type": "stream",
     "text": [
      "l1-l2: {'white', 'red', 'orange'}\n",
      "l2-l1: {'yellow', 'black'}\n"
     ]
    }
   ],
   "source": [
    "l1=[\"red\", \"orange\", \"green\", \"blue\", \"white\"]\n",
    "l2=[\"black\", \"yellow\", \"green\", \"blue\"]\n",
    "s1=set(l1)\n",
    "s1\n",
    "s2=set(l2)\n",
    "s2\n",
    "print('l1-l2:',s1-s2)\n",
    "print('l2-l1:',s2-s1)\n"
   ]
  }
 ],
 "metadata": {
  "kernelspec": {
   "display_name": "Python 3 (ipykernel)",
   "language": "python",
   "name": "python3"
  },
  "language_info": {
   "codemirror_mode": {
    "name": "ipython",
    "version": 3
   },
   "file_extension": ".py",
   "mimetype": "text/x-python",
   "name": "python",
   "nbconvert_exporter": "python",
   "pygments_lexer": "ipython3",
   "version": "3.9.13"
  }
 },
 "nbformat": 4,
 "nbformat_minor": 5
}
