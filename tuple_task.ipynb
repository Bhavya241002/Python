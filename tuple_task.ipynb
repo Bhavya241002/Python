{
 "cells": [
  {
   "cell_type": "markdown",
   "id": "a6760d9a",
   "metadata": {},
   "source": [
    "### 1.\tFind elements frequency in Tuple \n",
    "\n"
   ]
  },
  {
   "cell_type": "code",
   "execution_count": 1,
   "id": "44e45167",
   "metadata": {},
   "outputs": [
    {
     "data": {
      "text/plain": [
       "{4: 2, 5: 3, 6: 2}"
      ]
     },
     "execution_count": 1,
     "metadata": {},
     "output_type": "execute_result"
    }
   ],
   "source": [
    "t=(4, 5, 4, 5, 6, 6, 5) \n",
    "l=list(t)\n",
    "l\n",
    "d={}\n",
    "a=l.count(4)\n",
    "b=l.count(5)\n",
    "c=l.count(6)\n",
    "d[4]=a\n",
    "d[5]=b\n",
    "d[6]=c\n",
    "d"
   ]
  },
  {
   "cell_type": "markdown",
   "id": "de9d8577",
   "metadata": {},
   "source": [
    "### 2. Python program to sort a list of tuples alphabetically"
   ]
  },
  {
   "cell_type": "code",
   "execution_count": 1,
   "id": "19e5261f",
   "metadata": {},
   "outputs": [
    {
     "data": {
      "text/plain": [
       "[('aa', 30), ('aaaa', 28), ('bab', 29), ('bb', 21), ('csa', 'C')]"
      ]
     },
     "execution_count": 1,
     "metadata": {},
     "output_type": "execute_result"
    }
   ],
   "source": [
    "t=[(\"aaaa\", 28), (\"aa\", 30), (\"bab\", 29), (\"bb\", 21), (\"csa\", \"C\")]\n",
    "t.sort()\n",
    "t\n"
   ]
  },
  {
   "cell_type": "markdown",
   "id": "91719b99",
   "metadata": {},
   "source": [
    "### 3.\tWrite a Python program to calculate the average value of the numbers in a given tuple of tuples"
   ]
  },
  {
   "cell_type": "code",
   "execution_count": 2,
   "id": "c56bb111",
   "metadata": {},
   "outputs": [
    {
     "data": {
      "text/plain": [
       "[25.5, -18.0, 3.75]"
      ]
     },
     "execution_count": 2,
     "metadata": {},
     "output_type": "execute_result"
    }
   ],
   "source": [
    "def average_tuple(t):\n",
    "    result=[sum(x)/len(x) for x in zip(*t)]\n",
    "    return result\n",
    "t=((1,1,-5),(30,-15,56),(81,-60,-39),(-10,2,3))\n",
    "average_tuple(t)"
   ]
  },
  {
   "cell_type": "code",
   "execution_count": null,
   "id": "1920e50e",
   "metadata": {},
   "outputs": [],
   "source": []
  }
 ],
 "metadata": {
  "kernelspec": {
   "display_name": "Python 3 (ipykernel)",
   "language": "python",
   "name": "python3"
  },
  "language_info": {
   "codemirror_mode": {
    "name": "ipython",
    "version": 3
   },
   "file_extension": ".py",
   "mimetype": "text/x-python",
   "name": "python",
   "nbconvert_exporter": "python",
   "pygments_lexer": "ipython3",
   "version": "3.9.13"
  }
 },
 "nbformat": 4,
 "nbformat_minor": 5
}
